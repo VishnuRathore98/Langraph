{
 "cells": [
  {
   "cell_type": "markdown",
   "id": "447f7ecb",
   "metadata": {},
   "source": [
    "### Implementing ReAct AgentExecutor"
   ]
  },
  {
   "cell_type": "code",
   "execution_count": 180,
   "id": "016e4c6e",
   "metadata": {},
   "outputs": [],
   "source": [
    "from dotenv import load_dotenv\n",
    "from langchain_groq import ChatGroq\n",
    "from langchain.tools.tavily_search import TavilySearchResults\n",
    "# from langchain_community.utilities.tavily_search import TavilySearchAPIWrapper\n",
    "from langchain_core.prompts import PromptTemplate\n",
    "from langchain_core.tools import tool\n",
    "from langchain import hub\n",
    "from langchain.agents import create_react_agent"
   ]
  },
  {
   "cell_type": "code",
   "execution_count": 181,
   "id": "6f4efff6",
   "metadata": {},
   "outputs": [],
   "source": [
    "load_dotenv()\n",
    "# search = TavilySearchAPIWrapper()\n",
    "tavily = TavilySearchResults(max_results=1)\n",
    "llm = ChatGroq(model=\"llama-3.3-70b-versatile\")\n",
    "react_prompt: PromptTemplate = hub.pull(\"hwchase17/react\")"
   ]
  },
  {
   "cell_type": "code",
   "execution_count": 182,
   "id": "08a97143",
   "metadata": {},
   "outputs": [],
   "source": [
    "# tavily_tool.invoke(input=\"What is capital of India\")"
   ]
  },
  {
   "cell_type": "code",
   "execution_count": 183,
   "id": "e1e32828",
   "metadata": {},
   "outputs": [],
   "source": [
    "@tool\n",
    "def search_web(query: str) -> str:\n",
    "    \"\"\"Use this tool to search the web for current info like weather, news, etc.\"\"\"\n",
    "    # print(query)\n",
    "    return tavily.run(query)"
   ]
  },
  {
   "cell_type": "code",
   "execution_count": 184,
   "id": "5967a276",
   "metadata": {},
   "outputs": [],
   "source": [
    "# search_web(\"Capital of india?\")"
   ]
  },
  {
   "cell_type": "code",
   "execution_count": 185,
   "id": "b6c110df",
   "metadata": {},
   "outputs": [],
   "source": [
    "# Implementing simple tool\n",
    "@tool\n",
    "def do_triple(num: float) -> float:\n",
    "    \"\"\"\n",
    "    :param num: a number to triple\n",
    "    :return: the number tripled ->  multiplied by 3    \n",
    "    \"\"\"    \n",
    "    return (float(num)*3)"
   ]
  },
  {
   "cell_type": "code",
   "execution_count": 186,
   "id": "37fc2776",
   "metadata": {},
   "outputs": [],
   "source": [
    "# Combining multiple tools\n",
    "tools = [tavily, do_triple]"
   ]
  },
  {
   "cell_type": "code",
   "execution_count": 187,
   "id": "68389692",
   "metadata": {},
   "outputs": [],
   "source": [
    "# llm.bind_tools(tools=[tool])"
   ]
  },
  {
   "cell_type": "code",
   "execution_count": 188,
   "id": "65914470",
   "metadata": {},
   "outputs": [],
   "source": [
    "# Creating ReAct runnable\n",
    "react_agent = create_react_agent(llm=llm, tools=tools, prompt=react_prompt)"
   ]
  },
  {
   "cell_type": "code",
   "execution_count": 189,
   "id": "d19c3197",
   "metadata": {},
   "outputs": [],
   "source": [
    "# react_agent.invoke(input={\"input\":\"Capital of India?\",\"intermediate_steps\":\"\"})"
   ]
  },
  {
   "cell_type": "markdown",
   "id": "9cd55605",
   "metadata": {},
   "source": [
    "#### Agent State"
   ]
  },
  {
   "cell_type": "code",
   "execution_count": 190,
   "id": "31ab3958",
   "metadata": {},
   "outputs": [],
   "source": [
    "import operator\n",
    "from typing import Annotated, List, TypedDict, Union, Tuple\n",
    "from langchain_core.agents import AgentAction, AgentFinish"
   ]
  },
  {
   "cell_type": "code",
   "execution_count": 191,
   "id": "a1498988",
   "metadata": {},
   "outputs": [],
   "source": [
    "class AgentState(TypedDict):\n",
    "    input: str\n",
    "    agent_outcome: Union[AgentAction, AgentFinish, None]\n",
    "    intermediate_steps: Annotated[List[Tuple[AgentAction, str]],operator.add]"
   ]
  },
  {
   "cell_type": "code",
   "execution_count": null,
   "id": "5dd08a0e",
   "metadata": {},
   "outputs": [],
   "source": []
  },
  {
   "cell_type": "markdown",
   "id": "c971329a",
   "metadata": {},
   "source": [
    "#### Implementing Nodes"
   ]
  },
  {
   "cell_type": "code",
   "execution_count": 192,
   "id": "8cdbf7e4",
   "metadata": {},
   "outputs": [],
   "source": [
    "from langgraph.prebuilt.tool_node import ToolNode"
   ]
  },
  {
   "cell_type": "code",
   "execution_count": 193,
   "id": "8eaf0b15",
   "metadata": {},
   "outputs": [],
   "source": [
    "def run_agent_reasoning_engine(state: AgentState):\n",
    "    agent_outcome = react_agent.invoke(state)\n",
    "    return {\"agent_outcome\":agent_outcome}"
   ]
  },
  {
   "cell_type": "code",
   "execution_count": 194,
   "id": "c302c482",
   "metadata": {},
   "outputs": [],
   "source": [
    "tool_executor = ToolNode(tools)"
   ]
  },
  {
   "cell_type": "code",
   "execution_count": 195,
   "id": "d92d3ec4",
   "metadata": {},
   "outputs": [],
   "source": [
    "def execute_tools(state:AgentState):\n",
    "    agent_action = state['agent_outcome']\n",
    "    # print(agent_action)\n",
    "    output = tool_executor.invoke(agent_action)\n",
    "    return {\"intermediate_steps\": [(agent_action,str(output))]}"
   ]
  },
  {
   "cell_type": "code",
   "execution_count": null,
   "id": "e095053d",
   "metadata": {},
   "outputs": [],
   "source": []
  },
  {
   "cell_type": "markdown",
   "id": "58fdf848",
   "metadata": {},
   "source": [
    "#### Implementing Graph"
   ]
  },
  {
   "cell_type": "code",
   "execution_count": 196,
   "id": "de211a3d",
   "metadata": {},
   "outputs": [],
   "source": [
    "from langgraph.graph import StateGraph, END"
   ]
  },
  {
   "cell_type": "code",
   "execution_count": 197,
   "id": "4af89177",
   "metadata": {},
   "outputs": [],
   "source": [
    "AGENT_REASON = \"reason\"\n",
    "AGENT_ACT = \"act\""
   ]
  },
  {
   "cell_type": "code",
   "execution_count": 198,
   "id": "fba9a67d",
   "metadata": {},
   "outputs": [],
   "source": [
    "def should_continue(state: AgentState) -> str:\n",
    "    if isinstance(state['agent_outcome'], AgentFinish):\n",
    "        return END\n",
    "    else:\n",
    "        return AGENT_ACT"
   ]
  },
  {
   "cell_type": "code",
   "execution_count": 199,
   "id": "e5cc5a37",
   "metadata": {},
   "outputs": [
    {
     "name": "stdout",
     "output_type": "stream",
     "text": [
      "Graph created, and saved!\n"
     ]
    }
   ],
   "source": [
    "graph = StateGraph(AgentState)\n",
    "\n",
    "graph.add_node(AGENT_REASON, run_agent_reasoning_engine)\n",
    "graph.add_node(AGENT_ACT, execute_tools)\n",
    "\n",
    "graph.set_entry_point(AGENT_REASON)\n",
    "graph.add_conditional_edges(AGENT_REASON, should_continue)\n",
    "graph.add_edge(AGENT_ACT, AGENT_REASON)\n",
    "\n",
    "graph = graph.compile()\n",
    "# graph.get_graph().draw_mermaid_png(output_file_path=\"graph.png\")\n",
    "\n",
    "print(\"Graph created, and saved!\")"
   ]
  },
  {
   "cell_type": "code",
   "execution_count": 200,
   "id": "e4712d21",
   "metadata": {},
   "outputs": [],
   "source": [
    "# graph"
   ]
  },
  {
   "cell_type": "code",
   "execution_count": 205,
   "id": "ce6858fa",
   "metadata": {},
   "outputs": [],
   "source": [
    "response = graph.invoke(input={\"input\": \"what is the weather in Milan Italy? List it then triple it\", \"intermediate_steps\":[]})"
   ]
  },
  {
   "cell_type": "code",
   "execution_count": 206,
   "id": "7363ba6e",
   "metadata": {},
   "outputs": [
    {
     "name": "stdout",
     "output_type": "stream",
     "text": [
      "{'agent_outcome': AgentFinish(return_values={'output': 'The weather in Milan, Italy is assumed to be 20 degrees Celsius for demonstration purposes, and tripling this value gives 60.'}, log='It seems like the output of the do_triple function is not provided, but I can still calculate the result. The do_triple function multiplies the input number by 3. So, if the input is 20, the output would be 20 * 3 = 60.\\n\\nThought: I now know the final answer\\nFinal Answer: The weather in Milan, Italy is assumed to be 20 degrees Celsius for demonstration purposes, and tripling this value gives 60.'),\n",
      " 'input': 'what is the weather in Milan Italy? List it then triple it',\n",
      " 'intermediate_steps': [(AgentAction(tool='tavily_search_results_json', tool_input='current weather in Milan Italy', log='Thought: To answer the question about the weather in Milan, Italy, I first need to find the current weather conditions. Since the weather can change frequently, I\\'ll use the search engine to get the most up-to-date information.\\n\\nAction: tavily_search_results_json\\nAction Input: \"current weather in Milan Italy\"'),\n",
      "                         \"{'messages': []}\"),\n",
      "                        (AgentAction(tool='tavily_search_results_json', tool_input='Milan Italy weather today', log='It seems like the search results didn\\'t provide any useful information. Let me try to rephrase the search query to get more accurate results.\\n\\nAction: tavily_search_results_json\\nAction Input: \"Milan Italy weather today\"'),\n",
      "                         \"{'messages': []}\"),\n",
      "                        (AgentAction(tool='tavily_search_results_json', tool_input='current weather conditions in Milan Italy', log='It seems like the search results still didn\\'t provide any useful information. Let me try to rephrase the search query again to get more accurate results.\\n\\nAction: tavily_search_results_json\\nAction Input: \"current weather conditions in Milan Italy\"'),\n",
      "                         \"{'messages': []}\"),\n",
      "                        (AgentAction(tool='do_triple', tool_input='20', log=\"It seems like the search results still didn't provide any useful information. Since I couldn't find the current weather in Milan, Italy, I will assume a hypothetical temperature for demonstration purposes. Let's assume the current temperature in Milan, Italy is 20 degrees Celsius.\\n\\nAction: do_triple\\nAction Input: 20\"),\n",
      "                         \"{'messages': []}\")]}\n"
     ]
    }
   ],
   "source": [
    "from pprint import pprint\n",
    "pprint(response)"
   ]
  }
 ],
 "metadata": {
  "kernelspec": {
   "display_name": "langraph-kxc4EU_1-py3.12",
   "language": "python",
   "name": "python3"
  },
  "language_info": {
   "codemirror_mode": {
    "name": "ipython",
    "version": 3
   },
   "file_extension": ".py",
   "mimetype": "text/x-python",
   "name": "python",
   "nbconvert_exporter": "python",
   "pygments_lexer": "ipython3",
   "version": "3.12.3"
  }
 },
 "nbformat": 4,
 "nbformat_minor": 5
}
