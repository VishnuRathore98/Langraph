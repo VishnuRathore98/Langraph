{
 "cells": [
  {
   "cell_type": "markdown",
   "id": "447f7ecb",
   "metadata": {},
   "source": [
    "### Implementing ReAct AgentExecutor"
   ]
  },
  {
   "cell_type": "code",
   "execution_count": 7,
   "id": "016e4c6e",
   "metadata": {},
   "outputs": [],
   "source": [
    "from dotenv import load_dotenv\n",
    "from langchain_groq import ChatGroq\n",
    "from langchain.tools.tavily_search import TavilySearchResults\n",
    "from langchain_community.utilities.tavily_search import TavilySearchAPIWrapper\n",
    "from langchain_core.prompts import PromptTemplate\n",
    "from langchain_core.tools import tool\n",
    "from langchain import hub\n",
    "from langchain.agents import create_react_agent"
   ]
  },
  {
   "cell_type": "code",
   "execution_count": 4,
   "id": "6f4efff6",
   "metadata": {},
   "outputs": [],
   "source": [
    "load_dotenv()\n",
    "search = TavilySearchAPIWrapper()\n",
    "tavily_tool = TavilySearchResults(api_wrapper=search, max_results=3)\n",
    "llm = ChatGroq(model=\"llama-3.3-70b-versatile\")\n",
    "react_prompt: PromptTemplate = hub.pull(\"hwchase17/react\")"
   ]
  },
  {
   "cell_type": "code",
   "execution_count": null,
   "id": "b6c110df",
   "metadata": {},
   "outputs": [],
   "source": [
    "# Implementing simple tool\n",
    "@tool\n",
    "def do_triple(num: float) -> float:\n",
    "    \"\"\"\n",
    "    :param num: a number to triple\n",
    "    :return: the number tripled ->  multiplied by 3    \n",
    "    \"\"\"    \n",
    "    return (float(num)*3)"
   ]
  },
  {
   "cell_type": "code",
   "execution_count": null,
   "id": "37fc2776",
   "metadata": {},
   "outputs": [],
   "source": [
    "# Combining multiple tools\n",
    "tools = [tavily_tool, do_triple]"
   ]
  },
  {
   "cell_type": "code",
   "execution_count": null,
   "id": "65914470",
   "metadata": {},
   "outputs": [],
   "source": [
    "# Creating ReAct agent\n",
    "react_agent = create_react_agent(llm=llm, tools=tools, prompt=react_prompt)"
   ]
  },
  {
   "cell_type": "code",
   "execution_count": null,
   "id": "9cd55605",
   "metadata": {},
   "outputs": [],
   "source": []
  }
 ],
 "metadata": {
  "kernelspec": {
   "display_name": "langraph-kxc4EU_1-py3.12",
   "language": "python",
   "name": "python3"
  },
  "language_info": {
   "codemirror_mode": {
    "name": "ipython",
    "version": 3
   },
   "file_extension": ".py",
   "mimetype": "text/x-python",
   "name": "python",
   "nbconvert_exporter": "python",
   "pygments_lexer": "ipython3",
   "version": "3.12.3"
  }
 },
 "nbformat": 4,
 "nbformat_minor": 5
}
