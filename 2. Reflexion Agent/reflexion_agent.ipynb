{
 "cells": [
  {
   "cell_type": "markdown",
   "metadata": {},
   "source": [
    "### Implementing Reflexion Agent"
   ]
  },
  {
   "cell_type": "code",
   "execution_count": 6,
   "metadata": {},
   "outputs": [],
   "source": [
    "import os\n",
    "from pprint import pprint\n",
    "from datetime import datetime\n",
    "from dotenv import load_dotenv\n",
    "from langchain_groq import ChatGroq\n",
    "from langchain_core.messages import HumanMessage\n",
    "from langchain_core.prompts import ChatPromptTemplate, MessagesPlaceholder\n",
    "from langchain_core.output_parsers import JsonOutputToolsParser, PydanticToolsParser"
   ]
  },
  {
   "cell_type": "code",
   "execution_count": 2,
   "metadata": {},
   "outputs": [
    {
     "data": {
      "text/plain": [
       "True"
      ]
     },
     "execution_count": 2,
     "metadata": {},
     "output_type": "execute_result"
    }
   ],
   "source": [
    "load_dotenv()"
   ]
  },
  {
   "cell_type": "code",
   "execution_count": null,
   "metadata": {},
   "outputs": [],
   "source": [
    "# Chains for model\n",
    "actor_prompt_template = ChatPromptTemplate.from_messages(\n",
    "    [\n",
    "        (\n",
    "            \"system\",\n",
    "            \"\"\"\n",
    "            You are an expert researcher.\n",
    "            Current time: {time}\n",
    "            1. {first_instruction}\n",
    "            2. Reflect and critique your answer. Be severe to maximize improvement.\n",
    "            3. Recommend search queries to research information and improve your answer.\n",
    "            \"\"\"\n",
    "        ),\n",
    "        MessagesPlaceholder(variable_name=\"messages\"),\n",
    "        (\"system\",\"\"\" Answer the user's question above using the required format. \"\"\")\n",
    "    ]\n",
    ").partial(time = lambda: datetime.now().isoformat())"
   ]
  },
  {
   "cell_type": "code",
   "execution_count": null,
   "metadata": {},
   "outputs": [],
   "source": [
    "# Schemas for formatting answers\n",
    "from typing import List\n",
    "from langchain.pydantic_v1 import BaseModel, Field\n",
    "\n",
    "class Reflection(BaseModel):\n",
    "    missing: str = Field(description=\"Critique of what is missing.\")\n",
    "    superfluous: str = Field(description=\"Critique of what is superfluous.\")\n",
    "\n",
    "class AnswerQuestion(BaseModel):\n",
    "    \"\"\" Answer the questions. \"\"\"\n",
    "\n",
    "    answer: str = Field(description=\"~250 word detailed answer to the question.\")\n",
    "    reflection: Reflection = Field(description=\"Your reflection on the initial answer.\")\n",
    "    search_queries: List[str] = Field(description=\"1-3 search queries for researching improvements to address the critique of your current answer.\")"
   ]
  },
  {
   "cell_type": "markdown",
   "metadata": {},
   "source": [
    "### Tool Executer Debugging"
   ]
  },
  {
   "cell_type": "code",
   "execution_count": 1,
   "metadata": {},
   "outputs": [],
   "source": [
    "from typing import List\n",
    "from langchain_core.messages import BaseMessage, ToolMessage, AIMessage, HumanMessage\n",
    "from langchain_community.tools.tavily_search.tool import TavilySearchResults\n",
    "from langchain_community.utilities.tavily_search import TavilySearchAPIWrapper\n",
    "# from langgraph.prebuilt.tool_node import ToolExecutor, ToolInvocation\n",
    "from langgraph.prebuilt import ToolNode\n",
    "from langchain_core.tools import tool\n",
    "from chains import parser\n",
    "from collections import defaultdict\n",
    "import json\n",
    "from schemas import AnswerQuestion, Reflection\n",
    "from dotenv import load_dotenv\n",
    "\n",
    "load_dotenv()\n",
    "\n",
    "# Using Tavily for making search requests\n",
    "search = TavilySearchAPIWrapper()\n",
    "tavily_tool = TavilySearchResults(api_wrapper=search, max_results=5)\n",
    "# Casting Tavily into a tool\n",
    "tool_executor = ToolNode([tavily_tool])"
   ]
  },
  {
   "cell_type": "code",
   "execution_count": 36,
   "metadata": {},
   "outputs": [
    {
     "ename": "ValueError",
     "evalue": "No message found in input",
     "output_type": "error",
     "traceback": [
      "\u001b[31m---------------------------------------------------------------------------\u001b[39m",
      "\u001b[31mValueError\u001b[39m                                Traceback (most recent call last)",
      "\u001b[36mCell\u001b[39m\u001b[36m \u001b[39m\u001b[32mIn[36]\u001b[39m\u001b[32m, line 1\u001b[39m\n\u001b[32m----> \u001b[39m\u001b[32m1\u001b[39m \u001b[43mtool_executor\u001b[49m\u001b[43m.\u001b[49m\u001b[43minvoke\u001b[49m\u001b[43m(\u001b[49m\u001b[43mToolMessage\u001b[49m\u001b[43m(\u001b[49m\u001b[43mcontent\u001b[49m\u001b[43m=\u001b[49m\u001b[33;43m\"\u001b[39;49m\u001b[33;43mWhat is transformers\u001b[39;49m\u001b[33;43m\"\u001b[39;49m\u001b[43m,\u001b[49m\u001b[43mtool_call_id\u001b[49m\u001b[43m=\u001b[49m\u001b[33;43m\"\u001b[39;49m\u001b[33;43m1234\u001b[39;49m\u001b[33;43m\"\u001b[39;49m\u001b[43m)\u001b[49m\u001b[43m)\u001b[49m\n",
      "\u001b[36mFile \u001b[39m\u001b[32m~/.cache/pypoetry/virtualenvs/langraph-kxc4EU_1-py3.12/lib/python3.12/site-packages/langgraph/utils/runnable.py:371\u001b[39m, in \u001b[36mRunnableCallable.invoke\u001b[39m\u001b[34m(self, input, config, **kwargs)\u001b[39m\n\u001b[32m    369\u001b[39m \u001b[38;5;28;01melse\u001b[39;00m:\n\u001b[32m    370\u001b[39m     \u001b[38;5;28;01mwith\u001b[39;00m set_config_context(config) \u001b[38;5;28;01mas\u001b[39;00m context:\n\u001b[32m--> \u001b[39m\u001b[32m371\u001b[39m         ret = \u001b[43mcontext\u001b[49m\u001b[43m.\u001b[49m\u001b[43mrun\u001b[49m\u001b[43m(\u001b[49m\u001b[38;5;28;43mself\u001b[39;49m\u001b[43m.\u001b[49m\u001b[43mfunc\u001b[49m\u001b[43m,\u001b[49m\u001b[43m \u001b[49m\u001b[43m*\u001b[49m\u001b[43margs\u001b[49m\u001b[43m,\u001b[49m\u001b[43m \u001b[49m\u001b[43m*\u001b[49m\u001b[43m*\u001b[49m\u001b[43mkwargs\u001b[49m\u001b[43m)\u001b[49m\n\u001b[32m    372\u001b[39m \u001b[38;5;28;01mif\u001b[39;00m \u001b[38;5;28misinstance\u001b[39m(ret, Runnable) \u001b[38;5;129;01mand\u001b[39;00m \u001b[38;5;28mself\u001b[39m.recurse:\n\u001b[32m    373\u001b[39m     \u001b[38;5;28;01mreturn\u001b[39;00m ret.invoke(\u001b[38;5;28minput\u001b[39m, config)\n",
      "\u001b[36mFile \u001b[39m\u001b[32m~/.cache/pypoetry/virtualenvs/langraph-kxc4EU_1-py3.12/lib/python3.12/site-packages/langgraph/prebuilt/tool_node.py:235\u001b[39m, in \u001b[36mToolNode._func\u001b[39m\u001b[34m(self, input, config, store)\u001b[39m\n\u001b[32m    224\u001b[39m \u001b[38;5;28;01mdef\u001b[39;00m\u001b[38;5;250m \u001b[39m\u001b[34m_func\u001b[39m(\n\u001b[32m    225\u001b[39m     \u001b[38;5;28mself\u001b[39m,\n\u001b[32m    226\u001b[39m     \u001b[38;5;28minput\u001b[39m: Union[\n\u001b[32m   (...)\u001b[39m\u001b[32m    233\u001b[39m     store: Optional[BaseStore],\n\u001b[32m    234\u001b[39m ) -> Any:\n\u001b[32m--> \u001b[39m\u001b[32m235\u001b[39m     tool_calls, input_type = \u001b[38;5;28;43mself\u001b[39;49m\u001b[43m.\u001b[49m\u001b[43m_parse_input\u001b[49m\u001b[43m(\u001b[49m\u001b[38;5;28;43minput\u001b[39;49m\u001b[43m,\u001b[49m\u001b[43m \u001b[49m\u001b[43mstore\u001b[49m\u001b[43m)\u001b[49m\n\u001b[32m    236\u001b[39m     config_list = get_config_list(config, \u001b[38;5;28mlen\u001b[39m(tool_calls))\n\u001b[32m    237\u001b[39m     input_types = [input_type] * \u001b[38;5;28mlen\u001b[39m(tool_calls)\n",
      "\u001b[36mFile \u001b[39m\u001b[32m~/.cache/pypoetry/virtualenvs/langraph-kxc4EU_1-py3.12/lib/python3.12/site-packages/langgraph/prebuilt/tool_node.py:443\u001b[39m, in \u001b[36mToolNode._parse_input\u001b[39m\u001b[34m(self, input, store)\u001b[39m\n\u001b[32m    441\u001b[39m     message = messages[-\u001b[32m1\u001b[39m]\n\u001b[32m    442\u001b[39m \u001b[38;5;28;01melse\u001b[39;00m:\n\u001b[32m--> \u001b[39m\u001b[32m443\u001b[39m     \u001b[38;5;28;01mraise\u001b[39;00m \u001b[38;5;167;01mValueError\u001b[39;00m(\u001b[33m\"\u001b[39m\u001b[33mNo message found in input\u001b[39m\u001b[33m\"\u001b[39m)\n\u001b[32m    445\u001b[39m \u001b[38;5;28;01mif\u001b[39;00m \u001b[38;5;129;01mnot\u001b[39;00m \u001b[38;5;28misinstance\u001b[39m(message, AIMessage):\n\u001b[32m    446\u001b[39m     \u001b[38;5;28;01mraise\u001b[39;00m \u001b[38;5;167;01mValueError\u001b[39;00m(\u001b[33m\"\u001b[39m\u001b[33mLast message is not an AIMessage\u001b[39m\u001b[33m\"\u001b[39m)\n",
      "\u001b[31mValueError\u001b[39m: No message found in input"
     ]
    }
   ],
   "source": [
    "tool_executor.invoke(ToolMessage(content=\"What is transformers\",tool_call_id=\"1234\"))"
   ]
  },
  {
   "cell_type": "code",
   "execution_count": 51,
   "metadata": {},
   "outputs": [],
   "source": [
    "def execute_tools(state: List[BaseMessage]) -> List[ToolMessage]:\n",
    "    tool_invocation: AIMessage = state[-1]\n",
    "    \n",
    "    # Parse the tool calls using your parser\n",
    "    parsed_tool_calls = parser.invoke(tool_invocation)\n",
    "    \n",
    "    tool_messages = []\n",
    "    # Gettin AI responses one by one\n",
    "    for parsed_call in parsed_tool_calls:\n",
    "        # Getting search queries for Tavily to search for\n",
    "        call_id = parsed_call[\"id\"]\n",
    "        search_queries = parsed_call[\"args\"][\"search_queries\"]\n",
    "        \n",
    "        # Build batches of inputs for ToolNode\n",
    "        batch_inputs = []\n",
    "        for query in parsed_call['args']['search_queries']:\n",
    "            ai_message = AIMessage(\n",
    "                content=\"\",\n",
    "                tool_calls=[\n",
    "                    {\n",
    "                        \"name\": \"tavily_search_results_json\",\n",
    "                        \"args\": {\"query\": query},\n",
    "                        \"id\": call_id\n",
    "                    }\n",
    "                ]\n",
    "            )\n",
    "            batch_inputs.append([\n",
    "                HumanMessage(content=\"Tool request for query\"),  # placeholder\n",
    "                ai_message\n",
    "            ])\n",
    "    # Call ToolNode.batch with message histories\n",
    "    batch_outputs = tool_executor.batch(batch_inputs)\n",
    "    # Convert each result into a ToolMessage\n",
    "    for output in batch_outputs:\n",
    "        tool_messages.append(\n",
    "            ToolMessage(\n",
    "                content=output,\n",
    "                tool_call_id=call_id\n",
    "            )\n",
    "        )\n",
    "    return tool_messages\n"
   ]
  },
  {
   "cell_type": "code",
   "execution_count": 52,
   "metadata": {},
   "outputs": [
    {
     "name": "stdout",
     "output_type": "stream",
     "text": [
      "Tool executor enter\n",
      "Write about AI-Powered SOC / autonomous soc  problem domain, list startups that do that and raised capital.\n"
     ]
    },
    {
     "name": "stderr",
     "output_type": "stream",
     "text": [
      "/tmp/ipykernel_10506/2455877058.py:25: PydanticDeprecatedSince20: The `json` method is deprecated; use `model_dump_json` instead. Deprecated in Pydantic V2.0 to be removed in V3.0. See Pydantic V2 Migration Guide at https://errors.pydantic.dev/2.11/migration/\n",
      "  content=answer.json(),\n",
      "/tmp/ipykernel_10506/2455877058.py:29: PydanticDeprecatedSince20: The `dict` method is deprecated; use `model_dump` instead. Deprecated in Pydantic V2.0 to be removed in V3.0. See Pydantic V2 Migration Guide at https://errors.pydantic.dev/2.11/migration/\n",
      "  \"args\": answer.dict(),\n"
     ]
    },
    {
     "name": "stdout",
     "output_type": "stream",
     "text": [
      "[ToolMessage(content=['content=\\'[{\"title\": \"AI Security Startup Conifers.ai Secures $25M to Enhance SOC ...\", \"url\": \"https://www.maginative.com/article/ai-security-startup-conifers-ai-secures-25m-to-enhance-soc-operations-with-ai/\", \"content\": \"Security operations centers (SOCs) face mounting challenges—rising cyber threats, staff shortages, and outdated tools that slow investigations. Conifers.ai, a newly launched Tel Aviv and Dallas-based cybersecurity startup, is betting that AI can solve these problems at scale. The company has raised $25 million in funding, led by SYN Ventures, to advance its AI-native CognitiveSOC platform.\\\\\\\\nKey Points [...] Conifers.ai raised $25 million in funding from SYN Ventures, launching its AI-native CognitiveSOC platform.\\\\\\\\nThe platform accelerates security investigations, reducing resolution time by up to 87%.\\\\\\\\nConifers aims to replace outdated SOAR tools, offering a more proactive approach to security.\\\\\\\\nThe funding will support expansion and further AI advancements in cybersecurity. [...] The funding will accelerate Conifers’ expansion into enterprise and managed security service provider (MSSP) markets. With cybersecurity threats growing in scale and sophistication, Conifers is positioning itself as an essential AI-driven ally for SOC teams aiming to keep up.\\\\\\\\nChris McKay is the founder and chief editor of Maginative. His thought leadership in AI literacy and strategic AI adoption has been recognized by top academic institutions, media, and global brands.\", \"score\": 0.87782305}, {\"title\": \"Adaptive Security Raises $43M from a16z and OpenAI Startup Fund ...\", \"url\": \"https://www.prnewswire.com/news-releases/adaptive-security-raises-43m-from-a16z-and-openai-startup-fund-to-combat-ai-powered-cyber-attacks-including-deepfakes-vishing-and-smishing-302417695.html\", \"content\": \"NEW YORK, April 2, 2025 /PRNewswire/ -- Adaptive Security, the leading provider of AI-powered social engineering prevention solutions, today announced a $43 million funding round led by\\\\xa0Andreessen Horowitz (a16z) and the OpenAI Startup Fund, marking OpenAI\\\\\\'s first investment in a cybersecurity startup. Additional participating investors include Abstract Ventures, Eniac Ventures, CrossBeam Ventures and K5, along with executives from Google, Workday, Shopify, Plaid, Paxos and others. The funding [...] will accelerate Adaptive\\\\\\'s development of solutions to defend against AI-powered social engineering attacks. [...] \\\\\\\\\"The rise of AI-powered social engineering represents one of the most urgent cybersecurity threats of our time,\\\\\\\\\" said Brian Long, CEO and co-founder of Adaptive Security. \\\\\\\\\"Deepfake phone calls, AI-generated emails and SMS phishing are evolving rapidly. Attackers can now create AI personas of anyone, turning routine communications into sophisticated fraud attempts. Our platform is designed to protect companies at every stage of the attack cycle — from simulated AI attacks to employee training\", \"score\": 0.854509}, {\"title\": \"Cybersecurity startup Adaptive Security raises $43m to combat AI ...\", \"url\": \"https://www.startup-weekly.com/Cybersecurity-startup-Adaptive-Security-raises-43m-to-combat-AI-powered-attacks/\", \"content\": \"Adaptive Security, provider of AI-powered social engineering prevention solutions, announced $43 million funding round.\", \"score\": 0.83549726}, {\"title\": \"Andesite Secured $23M To Handle The SOC Crisis With AI-driven ...\", \"url\": \"https://aimresearch.co/ai-startups/andesite-secured-23m-to-handle-the-soc-crisis-with-ai-driven-cybersecurity\", \"content\": \"Andesite AI believes it has a solution. The Virginia-based cybersecurity startup has secured an additional $23 million in seed funding from General Catalyst and Red Cell Partners, bringing its total to $38.5 million. The investment will accelerate the development of Andesite’s AI-driven security operations center platform, one designed to augment, rather than replace, human analysts.\\\\\\\\nSecurity Analysts Are Drowning [...] The $23 million in new funding will go toward accelerating product development and scaling go-to-market initiatives. While Andesite has already gained traction in national security, financial services, and healthcare, the company is looking to expand its reach across industries. [...] Andesite Secured $23M To Handle The SOC Crisis With AI-driven Cybersecurity.\\\\\\\\nSkip to content\\\\\\\\n\\\\\\\\n\\\\\\\\n$0.00 0 Cart\\\\\\\\nSearch \\\\\\\\nLogin\\\\\\\\nSubscribe\\\\\\\\n\\\\\\\\nInsights\\\\\\\\nAdvisory\\\\\\\\nBest Firm\\\\\\\\nCouncil\\\\\\\\nPeMa Quadrant\\\\\\\\nContact\\\\\\\\n\\\\\\\\nData Products\\\\\\\\n\\\\\\\\n\\\\\\\\nInsights\\\\\\\\n\\\\\\\\nAdvisory\\\\\\\\nBest Firm\\\\\\\\nCouncil\\\\\\\\nPeMa Quadrant\\\\\\\\nContact\\\\\\\\nData Products\\\\\\\\n\\\\\\\\nAwards Nomination\\\\\\\\nOur Events\\\\\\\\nAdvertise\\\\\\\\nAndesite Secured $23M To Handle The SOC Crisis With AI-driven Cybersecurity.\\\\\\\\n\\\\\\\\nBy Anshika Mathews\\\\\\\\n\\\\\\\\nPublished on February 12, 2025\\\\\\\\n\\\\\\\\n\\\\\\\\nAI Startups\", \"score\": 0.7971311}, {\"title\": \"OpenAI backs deepfake cybersecurity startup Adaptive Security\", \"url\": \"https://www.cnbc.com/2025/04/02/openai-backs-deepfake-cybersecurity-startup-adaptive-security.html\", \"content\": \"AI-powered attacks have been rising over even the past year, Long said, as AI continues to get more sophisticated and the line between real and deepfake blurs more.\\\\\\\\n\\\\\\\\n\\\\\\\\\"The rise of AI-powered social engineering represents one of the most urgent cybersecurity threats of our time,\\\\\\\\\" Long said in a statement.\\\\\\\\n\\\\\\\\nThe recent funding round also included participation from Abstract Ventures, Eniac Ventures, CrossBeam Ventures, and K5, along with executives from Google, Workday, Shopify, Plaid and more. [...] Artificial intelligence cybersecurity company Adaptive Security announced Wednesday that it closed a $43 million funding round in March, co-led by OpenAI and Andreessen Horowitz.\\\\\\\\n\\\\\\\\nThe investment marks OpenAI\\\\\\'s first outside backing of a cybersecurity firm.\\\\\\\\n\\\\\\\\nAdaptive Security simulates AI-powered attacks against companies, specializing in training for deepfake attacks and other phishing threats.\", \"score\": 0.76279575}]\\' name=\\'tavily_search_results_json\\' tool_call_id=\\'call_KpYHichFFEmLitHFvFhKy1Ra\\' artifact={\\'query\\': \\'AI-powered SOC startups funding\\', \\'follow_up_questions\\': None, \\'answer\\': None, \\'images\\': [], \\'results\\': [{\\'url\\': \\'https://www.maginative.com/article/ai-security-startup-conifers-ai-secures-25m-to-enhance-soc-operations-with-ai/\\', \\'title\\': \\'AI Security Startup Conifers.ai Secures $25M to Enhance SOC ...\\', \\'content\\': \\'Security operations centers (SOCs) face mounting challenges—rising cyber threats, staff shortages, and outdated tools that slow investigations. Conifers.ai, a newly launched Tel Aviv and Dallas-based cybersecurity startup, is betting that AI can solve these problems at scale. The company has raised $25 million in funding, led by SYN Ventures, to advance its AI-native CognitiveSOC platform.\\\\nKey Points [...] Conifers.ai raised $25 million in funding from SYN Ventures, launching its AI-native CognitiveSOC platform.\\\\nThe platform accelerates security investigations, reducing resolution time by up to 87%.\\\\nConifers aims to replace outdated SOAR tools, offering a more proactive approach to security.\\\\nThe funding will support expansion and further AI advancements in cybersecurity. [...] The funding will accelerate Conifers’ expansion into enterprise and managed security service provider (MSSP) markets. With cybersecurity threats growing in scale and sophistication, Conifers is positioning itself as an essential AI-driven ally for SOC teams aiming to keep up.\\\\nChris McKay is the founder and chief editor of Maginative. His thought leadership in AI literacy and strategic AI adoption has been recognized by top academic institutions, media, and global brands.\\', \\'score\\': 0.87782305, \\'raw_content\\': None}, {\\'url\\': \\'https://www.prnewswire.com/news-releases/adaptive-security-raises-43m-from-a16z-and-openai-startup-fund-to-combat-ai-powered-cyber-attacks-including-deepfakes-vishing-and-smishing-302417695.html\\', \\'title\\': \\'Adaptive Security Raises $43M from a16z and OpenAI Startup Fund ...\\', \\'content\\': \\'NEW YORK, April 2, 2025 /PRNewswire/ -- Adaptive Security, the leading provider of AI-powered social engineering prevention solutions, today announced a $43 million funding round led by\\\\xa0Andreessen Horowitz (a16z) and the OpenAI Startup Fund, marking OpenAI\\\\\\'s first investment in a cybersecurity startup. Additional participating investors include Abstract Ventures, Eniac Ventures, CrossBeam Ventures and K5, along with executives from Google, Workday, Shopify, Plaid, Paxos and others. The funding [...] will accelerate Adaptive\\\\\\'s development of solutions to defend against AI-powered social engineering attacks. [...] \"The rise of AI-powered social engineering represents one of the most urgent cybersecurity threats of our time,\" said Brian Long, CEO and co-founder of Adaptive Security. \"Deepfake phone calls, AI-generated emails and SMS phishing are evolving rapidly. Attackers can now create AI personas of anyone, turning routine communications into sophisticated fraud attempts. Our platform is designed to protect companies at every stage of the attack cycle — from simulated AI attacks to employee training\\', \\'score\\': 0.854509, \\'raw_content\\': None}, {\\'url\\': \\'https://www.startup-weekly.com/Cybersecurity-startup-Adaptive-Security-raises-43m-to-combat-AI-powered-attacks/\\', \\'title\\': \\'Cybersecurity startup Adaptive Security raises $43m to combat AI ...\\', \\'content\\': \\'Adaptive Security, provider of AI-powered social engineering prevention solutions, announced $43 million funding round.\\', \\'score\\': 0.83549726, \\'raw_content\\': None}, {\\'url\\': \\'https://aimresearch.co/ai-startups/andesite-secured-23m-to-handle-the-soc-crisis-with-ai-driven-cybersecurity\\', \\'title\\': \\'Andesite Secured $23M To Handle The SOC Crisis With AI-driven ...\\', \\'content\\': \\'Andesite AI believes it has a solution. The Virginia-based cybersecurity startup has secured an additional $23 million in seed funding from General Catalyst and Red Cell Partners, bringing its total to $38.5 million. The investment will accelerate the development of Andesite’s AI-driven security operations center platform, one designed to augment, rather than replace, human analysts.\\\\nSecurity Analysts Are Drowning [...] The $23 million in new funding will go toward accelerating product development and scaling go-to-market initiatives. While Andesite has already gained traction in national security, financial services, and healthcare, the company is looking to expand its reach across industries. [...] Andesite Secured $23M To Handle The SOC Crisis With AI-driven Cybersecurity.\\\\nSkip to content\\\\n\\\\n\\\\n$0.00 0 Cart\\\\nSearch \\\\nLogin\\\\nSubscribe\\\\n\\\\nInsights\\\\nAdvisory\\\\nBest Firm\\\\nCouncil\\\\nPeMa Quadrant\\\\nContact\\\\n\\\\nData Products\\\\n\\\\n\\\\nInsights\\\\n\\\\nAdvisory\\\\nBest Firm\\\\nCouncil\\\\nPeMa Quadrant\\\\nContact\\\\nData Products\\\\n\\\\nAwards Nomination\\\\nOur Events\\\\nAdvertise\\\\nAndesite Secured $23M To Handle The SOC Crisis With AI-driven Cybersecurity.\\\\n\\\\nBy Anshika Mathews\\\\n\\\\nPublished on February 12, 2025\\\\n\\\\n\\\\nAI Startups\\', \\'score\\': 0.7971311, \\'raw_content\\': None}, {\\'url\\': \\'https://www.cnbc.com/2025/04/02/openai-backs-deepfake-cybersecurity-startup-adaptive-security.html\\', \\'title\\': \\'OpenAI backs deepfake cybersecurity startup Adaptive Security\\', \\'content\\': \\'AI-powered attacks have been rising over even the past year, Long said, as AI continues to get more sophisticated and the line between real and deepfake blurs more.\\\\n\\\\n\"The rise of AI-powered social engineering represents one of the most urgent cybersecurity threats of our time,\" Long said in a statement.\\\\n\\\\nThe recent funding round also included participation from Abstract Ventures, Eniac Ventures, CrossBeam Ventures, and K5, along with executives from Google, Workday, Shopify, Plaid and more. [...] Artificial intelligence cybersecurity company Adaptive Security announced Wednesday that it closed a $43 million funding round in March, co-led by OpenAI and Andreessen Horowitz.\\\\n\\\\nThe investment marks OpenAI\\\\\\'s first outside backing of a cybersecurity firm.\\\\n\\\\nAdaptive Security simulates AI-powered attacks against companies, specializing in training for deepfake attacks and other phishing threats.\\', \\'score\\': 0.76279575, \\'raw_content\\': None}], \\'response_time\\': 1.57}'], tool_call_id='call_KpYHichFFEmLitHFvFhKy1Ra'), ToolMessage(content=['content=\\'[{\"title\": \"The Ultimate Guide to Domain-Specific AI - Evalueserve\", \"url\": \"https://www.evalueserve.com/the-ultimate-guide-to-domain-specific-ai-ebook/\", \"content\": \"Complicating matters, managers have too much data and are unable to determine value from noise, making a wide-scale AI deployment difficult. They need to scale across the organization to affect the type of success they need.\\\\\\\\nDomain-specific AI is ideal for resolving situations like these.\\\\\\\\nDomain-specific AI helps businesses process and analyze data within a specific industry and function. Domain-specific AI is configurable to a client use case. [...] Building and Implementing a Domain-Specific AI Solution\\\\\\\\nUsing an algorithm already trained on industry- and function-specific data quickens time to value. Domain-specific AI delivers better accuracy and relevance because it is built with a purpose in mind. Here are some examples of domain-specific AI use cases:\\\\\\\\n\\\\\\\\n\\\\\\\\nCustomer segmentation for \\\\xa0B2B industrials, logistics, tech\\\\\\\\n\\\\\\\\n\\\\\\\\nCustomer lifetime value for \\\\xa0B2B industrials, logistics, tech [...] AI becomes domain-specific when the data science team begins training the AI model with industry-specific training data. Data sources include industry- and function-related documents, terminology/vocabulary, data sets, and other relevant sources. Data is labeled to ensure accuracy to meet the use case within the domain.\", \"score\": 0.52290934}, {\"title\": \"Domain Specific AI: A Complete Guide to Specialized Artificial ...\", \"url\": \"https://www.getguru.com/reference/domain-specific-ai\", \"content\": \"Domain-specific AI is revolutionizing industries by providing specialized, high-precision solutions tailored to unique business needs. Unlike general AI, which handles broad applications, domain-specific AI leverages industry-specific data, workflows, and compliance requirements to deliver more accurate and efficient results. By integrating it into your organization, you can enhance decision-making, streamline operations, and gain a competitive edge. [...] Domain-specific AI is an artificial intelligence system designed for a particular industry or use case, trained on specialized data to deliver highly accurate and relevant results. Unlike general AI, it focuses on solving specific challenges within a defined domain, such as healthcare, finance, or manufacturing.\\\\\\\\n\\\\\\\\nâ\\\\x80\\\\x8d\\\\\\\\n\\\\\\\\nWhat is domain-specific intelligence? [...] Domain-specific intelligence refers to an AI systemâ\\\\x80\\\\x99s ability to understand and process information within a particular field, using industry-specific data, terminology, and workflows to enhance decision-making and automation.\\\\\\\\n\\\\\\\\nâ\\\\x80\\\\x8d\\\\\\\\n\\\\\\\\nWhat is a domain AI?\\\\\\\\n\\\\\\\\nDomain AI, or domain-specific AI, is an artificial intelligence model tailored to a specific industry, ensuring it can perform specialized tasks with greater accuracy and efficiency than general-purpose AI.\\\\\\\\n\\\\\\\\nâ\\\\x80\\\\x8d\", \"score\": 0.51383984}, {\"title\": \"SOC 3.0 - The Evolution of the SOC and How AI is Empowering ...\", \"url\": \"https://thehackernews.com/2025/02/soc-30-evolution-of-soc-and-how-ai-is.html\", \"content\": \"For example, if an alert fired every time a test server connected to a non-production domain, the SOC quickly realized it was harmless noise. We\\\\\\'d exclude low-severity or known test infrastructure from logging or alerting. This back and forth—\\\\\\\\\"Tune these alerts!\\\\\\\\\" or \\\\\\\\\"Exclude this server!\\\\\\\\\"—became the norm. SOC resources were invested more in managing alert fatigue than in addressing real security problems. [...] Organizations today face relentless cyber attacks, with high-profile breaches hitting the headlines almost daily. Reflecting on a long journey in the security field, it\\\\\\'s clear this isn\\\\\\'t just a human problem—it\\\\\\'s a math problem. There are simply too many threats and security tasks for any SOC to manually handle in a reasonable timeframe. Yet, there is a solution. Many refer to it as SOC 3.0—an AI-augmented environment that finally lets analysts do more with less and shifts security operations [...] Radiant Security provides an AI-powered SOC platform designed for SMB and enterprise security teams looking to fully handle 100% of the alerts they receive from multiple tools and sensors. Ingesting, understanding, and triaging alerts from any security vendor or data source, Radiant ensures no real threats are missed, cuts response times from days to minutes, and enables analysts to focus on true positive incidents and proactive security. Unlike other AI solutions which are constrained to\", \"score\": 0.43295085}, {\"title\": \"AI-Driven Security Operations Center: AI SOC Explained - Swimlane\", \"url\": \"https://swimlane.com/blog/ai-soc/\", \"content\": \"Discover how AI-driven SOCs enhance threat detection, automate incident response, and improve security operations at scale.\", \"score\": 0.38276476}]\\' name=\\'tavily_search_results_json\\' tool_call_id=\\'call_KpYHichFFEmLitHFvFhKy1Ra\\' artifact={\\'query\\': \\'AI SOC problem domain specifics\\', \\'follow_up_questions\\': None, \\'answer\\': None, \\'images\\': [], \\'results\\': [{\\'url\\': \\'https://www.evalueserve.com/the-ultimate-guide-to-domain-specific-ai-ebook/\\', \\'title\\': \\'The Ultimate Guide to Domain-Specific AI - Evalueserve\\', \\'content\\': \\'Complicating matters, managers have too much data and are unable to determine value from noise, making a wide-scale AI deployment difficult. They need to scale across the organization to affect the type of success they need.\\\\nDomain-specific AI is ideal for resolving situations like these.\\\\nDomain-specific AI helps businesses process and analyze data within a specific industry and function. Domain-specific AI is configurable to a client use case. [...] Building and Implementing a Domain-Specific AI Solution\\\\nUsing an algorithm already trained on industry- and function-specific data quickens time to value. Domain-specific AI delivers better accuracy and relevance because it is built with a purpose in mind. Here are some examples of domain-specific AI use cases:\\\\n\\\\n\\\\nCustomer segmentation for \\\\xa0B2B industrials, logistics, tech\\\\n\\\\n\\\\nCustomer lifetime value for \\\\xa0B2B industrials, logistics, tech [...] AI becomes domain-specific when the data science team begins training the AI model with industry-specific training data. Data sources include industry- and function-related documents, terminology/vocabulary, data sets, and other relevant sources. Data is labeled to ensure accuracy to meet the use case within the domain.\\', \\'score\\': 0.52290934, \\'raw_content\\': None}, {\\'url\\': \\'https://www.getguru.com/reference/domain-specific-ai\\', \\'title\\': \\'Domain Specific AI: A Complete Guide to Specialized Artificial ...\\', \\'content\\': \\'Domain-specific AI is revolutionizing industries by providing specialized, high-precision solutions tailored to unique business needs. Unlike general AI, which handles broad applications, domain-specific AI leverages industry-specific data, workflows, and compliance requirements to deliver more accurate and efficient results. By integrating it into your organization, you can enhance decision-making, streamline operations, and gain a competitive edge. [...] Domain-specific AI is an artificial intelligence system designed for a particular industry or use case, trained on specialized data to deliver highly accurate and relevant results. Unlike general AI, it focuses on solving specific challenges within a defined domain, such as healthcare, finance, or manufacturing.\\\\n\\\\nâ\\\\x80\\\\x8d\\\\n\\\\nWhat is domain-specific intelligence? [...] Domain-specific intelligence refers to an AI systemâ\\\\x80\\\\x99s ability to understand and process information within a particular field, using industry-specific data, terminology, and workflows to enhance decision-making and automation.\\\\n\\\\nâ\\\\x80\\\\x8d\\\\n\\\\nWhat is a domain AI?\\\\n\\\\nDomain AI, or domain-specific AI, is an artificial intelligence model tailored to a specific industry, ensuring it can perform specialized tasks with greater accuracy and efficiency than general-purpose AI.\\\\n\\\\nâ\\\\x80\\\\x8d\\', \\'score\\': 0.51383984, \\'raw_content\\': None}, {\\'url\\': \\'https://thehackernews.com/2025/02/soc-30-evolution-of-soc-and-how-ai-is.html\\', \\'title\\': \\'SOC 3.0 - The Evolution of the SOC and How AI is Empowering ...\\', \\'content\\': \\'For example, if an alert fired every time a test server connected to a non-production domain, the SOC quickly realized it was harmless noise. We\\\\\\'d exclude low-severity or known test infrastructure from logging or alerting. This back and forth—\"Tune these alerts!\" or \"Exclude this server!\"—became the norm. SOC resources were invested more in managing alert fatigue than in addressing real security problems. [...] Organizations today face relentless cyber attacks, with high-profile breaches hitting the headlines almost daily. Reflecting on a long journey in the security field, it\\\\\\'s clear this isn\\\\\\'t just a human problem—it\\\\\\'s a math problem. There are simply too many threats and security tasks for any SOC to manually handle in a reasonable timeframe. Yet, there is a solution. Many refer to it as SOC 3.0—an AI-augmented environment that finally lets analysts do more with less and shifts security operations [...] Radiant Security provides an AI-powered SOC platform designed for SMB and enterprise security teams looking to fully handle 100% of the alerts they receive from multiple tools and sensors. Ingesting, understanding, and triaging alerts from any security vendor or data source, Radiant ensures no real threats are missed, cuts response times from days to minutes, and enables analysts to focus on true positive incidents and proactive security. Unlike other AI solutions which are constrained to\\', \\'score\\': 0.43295085, \\'raw_content\\': None}, {\\'url\\': \\'https://swimlane.com/blog/ai-soc/\\', \\'title\\': \\'AI-Driven Security Operations Center: AI SOC Explained - Swimlane\\', \\'content\\': \\'Discover how AI-driven SOCs enhance threat detection, automate incident response, and improve security operations at scale.\\', \\'score\\': 0.38276476, \\'raw_content\\': None}], \\'response_time\\': 2.27}'], tool_call_id='call_KpYHichFFEmLitHFvFhKy1Ra'), ToolMessage(content=['content=\\'[{\"title\": \"AI SOC: The Definition and Components of AI-Driven SOC\", \"url\": \"https://radiantsecurity.ai/learn/ai-driven-soc/\", \"content\": \"Various AI technologies propel the efficacy of SOC environments:\\\\\\\\n– Deep learning – useful for things like image recognition.\\\\\\\\n– Large Language Models (LLMs) and Natural Language Processing facilitate the rapid extraction of insights from unstructured text, expediting threat analysis. They also help with understanding meaning, and intent, synthesizing data into human consumable summaries. [...] The emergence of Artificial Intelligence, Machine Learning, and Natural language Processing technologies brought with them new AI-powered SOC tools that introduce a transformative approach to cybersecurity. These AI-driven tools hold the promise of efficiency and streamlined incident response automation that results in accelerated reaction times and a decrease in costly security incidents. This article will explain what AI-driven SOC is, introduce its components, and debate whether artificial [...] However, on the flip side, AI-powered cybersecurity defenders and analysts within advanced Security Operations Centers (SOCs) offer a strong defense. These AI-enhanced cyber sentinels bolster response capabilities against a plethora of threats, including phishing attacks, malware incidents, compromised identities, and remote provisioning. By leveraging AI, SOC teams can proactively manage and mitigate threats, drastically reducing the mean time to resolve critical incidents from days or weeks\", \"score\": 0.78572035}, {\"title\": \"Today\\\\\\'s AI-powered SOC companies are tomorrow\\\\\\'s security service ...\", \"url\": \"https://ventureinsecurity.net/p/todays-ai-powered-soc-companies-are-524\", \"content\": \"Many of today\\\\\\'s AI SOC customers are MSSPs that offer their own managed detection and response services. AI SOC analyst technology enables MSSPs to support more clients and maintain consistently high-quality service - something that becomes increasingly more important in the highly competitive market. [...] Two types of AI x SOC companies\\\\\\\\n\\\\\\\\nThere are different ways to slice the AI x SOC market - by the way startups use AI, by the tech stack they support, etc. I believe that at the very fundamental level, there are two types of companies using AI to automate SOC operations:\\\\\\\\n\\\\\\\\nThose building products (AI agents for SOC), and\\\\\\\\n\\\\\\\\nThose offering services (AI-enabled MDRs).\\\\\\\\n\\\\\\\\nUsing AI to build products (AI agents for SOC) [...] In my opinion, AI for SOC is the natural next step in the security information and event management (SIEM) and security orchestration, automation, and response (SOAR) story. Historically, SOC teams had to sift through a sea of alerts trying to find a needle in a haystack (SIEM use case). Then, they had to automate manual investigation, triage, and remediation tasks (SOAR use case). AI agents for SOC are trying to solve a combination of these two use cases in a single place.\", \"score\": 0.75442725}, {\"title\": \"AI-Driven Security Operations Center: AI SOC Explained\", \"url\": \"https://securityboulevard.com/2025/03/ai-driven-security-operations-center-ai-soc-explained/\", \"content\": \"A Security Operations Center (SOC) powered by artificial intelligence (AI) leverages machine learning, generative AI, and hyperautomation to\", \"score\": 0.6612456}, {\"title\": \"4 Cybersecurity AI Startups To Follow in 2025 - Blumberg Capital\", \"url\": \"https://blumbergcapital.com/news-insights/ai-cybersecurity-companies-to-follow/\", \"content\": \"Hunters is an AI-powered SIEM that changes the way SOCs operate. Hunters automates the entire TDIR process, replacing repetitive human work with machine-powered detection, enrichment, correlation, prioritization, triage, and investigation, freeing analysts to proactively protect their organizations. Hunters utilizes an open security data lake architecture, ensuring complete and cost-effective coverage of the entire security stack. Companies like Booking.com and Snowflake use Hunters to empower\", \"score\": 0.6607204}, {\"title\": \"AI-Powered SOC: A New Intelligent Era In Cybersecurity - Forbes\", \"url\": \"https://www.forbes.com/councils/forbestechcouncil/2024/07/31/ai-powered-soc-a-new-intelligent-era-in-cybersecurity/\", \"content\": \"In short, the future of AI-driven SOCs looks bright, with emerging technologies and evolving roles transforming how we approach cybersecurity. Embracing these changes will help us protect our digital assets more effectively and stay ahead of potential threats.\\\\\\\\nConclusion [...] • Fully managed services: Look to add an end-to-end suite of fully managed IT and cybersecurity services.\\\\\\\\nThe Future Of The AI-Powered SOC\\\\\\\\nThe future of SOC is exciting, with advancements set to advance cybersecurity. Here\\\\\\'s what we can expect.\\\\\\\\nEmerging Trends And Technologies [...] • Machine learning algorithms: Employ algorithms to analyze patterns and detect anomalies.\\\\\\\\n• Automated threat detection and response: Enable automated detection and immediate response actions.\\\\\\\\n• Predictive analytics: Forecast potential threats based on historical data and emerging trends.\\\\\\\\n• Threat intelligence integration: Incorporate external threat feeds to enrich analysis.\\\\\\\\n• User and entity behavior analytics (UEBA): Monitor behaviors to detect anomalies indicative of threats.\", \"score\": 0.63152665}]\\' name=\\'tavily_search_results_json\\' tool_call_id=\\'call_KpYHichFFEmLitHFvFhKy1Ra\\' artifact={\\'query\\': \\'Technologies used by AI-powered SOC startups\\', \\'follow_up_questions\\': None, \\'answer\\': None, \\'images\\': [], \\'results\\': [{\\'url\\': \\'https://radiantsecurity.ai/learn/ai-driven-soc/\\', \\'title\\': \\'AI SOC: The Definition and Components of AI-Driven SOC\\', \\'content\\': \\'Various AI technologies propel the efficacy of SOC environments:\\\\n– Deep learning – useful for things like image recognition.\\\\n– Large Language Models (LLMs) and Natural Language Processing facilitate the rapid extraction of insights from unstructured text, expediting threat analysis. They also help with understanding meaning, and intent, synthesizing data into human consumable summaries. [...] The emergence of Artificial Intelligence, Machine Learning, and Natural language Processing technologies brought with them new AI-powered SOC tools that introduce a transformative approach to cybersecurity. These AI-driven tools hold the promise of efficiency and streamlined incident response automation that results in accelerated reaction times and a decrease in costly security incidents. This article will explain what AI-driven SOC is, introduce its components, and debate whether artificial [...] However, on the flip side, AI-powered cybersecurity defenders and analysts within advanced Security Operations Centers (SOCs) offer a strong defense. These AI-enhanced cyber sentinels bolster response capabilities against a plethora of threats, including phishing attacks, malware incidents, compromised identities, and remote provisioning. By leveraging AI, SOC teams can proactively manage and mitigate threats, drastically reducing the mean time to resolve critical incidents from days or weeks\\', \\'score\\': 0.78572035, \\'raw_content\\': None}, {\\'url\\': \\'https://ventureinsecurity.net/p/todays-ai-powered-soc-companies-are-524\\', \\'title\\': \"Today\\'s AI-powered SOC companies are tomorrow\\'s security service ...\", \\'content\\': \"Many of today\\'s AI SOC customers are MSSPs that offer their own managed detection and response services. AI SOC analyst technology enables MSSPs to support more clients and maintain consistently high-quality service - something that becomes increasingly more important in the highly competitive market. [...] Two types of AI x SOC companies\\\\n\\\\nThere are different ways to slice the AI x SOC market - by the way startups use AI, by the tech stack they support, etc. I believe that at the very fundamental level, there are two types of companies using AI to automate SOC operations:\\\\n\\\\nThose building products (AI agents for SOC), and\\\\n\\\\nThose offering services (AI-enabled MDRs).\\\\n\\\\nUsing AI to build products (AI agents for SOC) [...] In my opinion, AI for SOC is the natural next step in the security information and event management (SIEM) and security orchestration, automation, and response (SOAR) story. Historically, SOC teams had to sift through a sea of alerts trying to find a needle in a haystack (SIEM use case). Then, they had to automate manual investigation, triage, and remediation tasks (SOAR use case). AI agents for SOC are trying to solve a combination of these two use cases in a single place.\", \\'score\\': 0.75442725, \\'raw_content\\': None}, {\\'url\\': \\'https://securityboulevard.com/2025/03/ai-driven-security-operations-center-ai-soc-explained/\\', \\'title\\': \\'AI-Driven Security Operations Center: AI SOC Explained\\', \\'content\\': \\'A Security Operations Center (SOC) powered by artificial intelligence (AI) leverages machine learning, generative AI, and hyperautomation to\\', \\'score\\': 0.6612456, \\'raw_content\\': None}, {\\'url\\': \\'https://blumbergcapital.com/news-insights/ai-cybersecurity-companies-to-follow/\\', \\'title\\': \\'4 Cybersecurity AI Startups To Follow in 2025 - Blumberg Capital\\', \\'content\\': \\'Hunters is an AI-powered SIEM that changes the way SOCs operate. Hunters automates the entire TDIR process, replacing repetitive human work with machine-powered detection, enrichment, correlation, prioritization, triage, and investigation, freeing analysts to proactively protect their organizations. Hunters utilizes an open security data lake architecture, ensuring complete and cost-effective coverage of the entire security stack. Companies like Booking.com and Snowflake use Hunters to empower\\', \\'score\\': 0.6607204, \\'raw_content\\': None}, {\\'url\\': \\'https://www.forbes.com/councils/forbestechcouncil/2024/07/31/ai-powered-soc-a-new-intelligent-era-in-cybersecurity/\\', \\'title\\': \\'AI-Powered SOC: A New Intelligent Era In Cybersecurity - Forbes\\', \\'content\\': \"In short, the future of AI-driven SOCs looks bright, with emerging technologies and evolving roles transforming how we approach cybersecurity. Embracing these changes will help us protect our digital assets more effectively and stay ahead of potential threats.\\\\nConclusion [...] • Fully managed services: Look to add an end-to-end suite of fully managed IT and cybersecurity services.\\\\nThe Future Of The AI-Powered SOC\\\\nThe future of SOC is exciting, with advancements set to advance cybersecurity. Here\\'s what we can expect.\\\\nEmerging Trends And Technologies [...] • Machine learning algorithms: Employ algorithms to analyze patterns and detect anomalies.\\\\n• Automated threat detection and response: Enable automated detection and immediate response actions.\\\\n• Predictive analytics: Forecast potential threats based on historical data and emerging trends.\\\\n• Threat intelligence integration: Incorporate external threat feeds to enrich analysis.\\\\n• User and entity behavior analytics (UEBA): Monitor behaviors to detect anomalies indicative of threats.\", \\'score\\': 0.63152665, \\'raw_content\\': None}], \\'response_time\\': 1.32}'], tool_call_id='call_KpYHichFFEmLitHFvFhKy1Ra')]\n"
     ]
    }
   ],
   "source": [
    "print(\"Tool executor enter\")\n",
    "\n",
    "human_message = HumanMessage(\n",
    "    content=\"Write about AI-Powered SOC / autonomous soc  problem domain,\"\n",
    "    \" list startups that do that and raised capital.\"\n",
    ")\n",
    "\n",
    "print(human_message.content)\n",
    "\n",
    "answer = AnswerQuestion(\n",
    "    answer=\"\",\n",
    "    reflection=Reflection(missing=\"\", superfluous=\"\"),\n",
    "    search_queries=[\n",
    "        \"AI-powered SOC startups funding\",\n",
    "        \"AI SOC problem domain specifics\",\n",
    "        \"Technologies used by AI-powered SOC startups\",\n",
    "    ],\n",
    "    id=\"call_KpYHichFFEmLitHFvFhKy1Ra\"\n",
    ")\n",
    "\n",
    "raw_res = execute_tools(\n",
    "    state=[\n",
    "            human_message.content,\n",
    "            AIMessage(\n",
    "                content=answer.json(),\n",
    "                tool_calls=[\n",
    "                    {\n",
    "                        \"name\": \"tavily_search_results_json\",\n",
    "                        \"args\": answer.dict(),\n",
    "                        \"id\": \"call_KpYHichFFEmLitHFvFhKy1Ra\"\n",
    "                    }\n",
    "                ])\n",
    "        ]\n",
    ")\n",
    "print(raw_res)"
   ]
  },
  {
   "cell_type": "code",
   "execution_count": null,
   "metadata": {},
   "outputs": [],
   "source": []
  }
 ],
 "metadata": {
  "kernelspec": {
   "display_name": "langraph-kxc4EU_1-py3.12",
   "language": "python",
   "name": "python3"
  },
  "language_info": {
   "codemirror_mode": {
    "name": "ipython",
    "version": 3
   },
   "file_extension": ".py",
   "mimetype": "text/x-python",
   "name": "python",
   "nbconvert_exporter": "python",
   "pygments_lexer": "ipython3",
   "version": "3.12.3"
  }
 },
 "nbformat": 4,
 "nbformat_minor": 2
}
