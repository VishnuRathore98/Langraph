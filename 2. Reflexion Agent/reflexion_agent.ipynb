{
 "cells": [
  {
   "cell_type": "markdown",
   "metadata": {},
   "source": [
    "## Implementing Reflexion Agent"
   ]
  },
  {
   "cell_type": "markdown",
   "metadata": {},
   "source": [
    "### Actor Agent"
   ]
  },
  {
   "cell_type": "markdown",
   "metadata": {},
   "source": [
    "#### Schema"
   ]
  },
  {
   "cell_type": "code",
   "execution_count": 93,
   "metadata": {},
   "outputs": [],
   "source": [
    "# Imports\n",
    "from pydantic import BaseModel, Field\n",
    "from typing import List"
   ]
  },
  {
   "cell_type": "code",
   "execution_count": 94,
   "metadata": {},
   "outputs": [],
   "source": [
    "class Reflection(BaseModel):\n",
    "    missing: str = Field(description=\"Critique of what is missing.\")\n",
    "    superfluous: str = Field(description=\"Critique of what is superfluous.\")"
   ]
  },
  {
   "cell_type": "code",
   "execution_count": 95,
   "metadata": {},
   "outputs": [],
   "source": [
    "class AnswerQuestion(BaseModel):\n",
    "    \"\"\"Answer the questions\"\"\"\n",
    "    answer: str = Field(description=\"250 word detailed answer to the question.\")\n",
    "    reflection: Reflection = Field(description=\"Your reflection on the initial answer.\")\n",
    "    queries: List[str] = Field(description=\"1-3 search queries for researching improvements to address the critique of your current answer.\")"
   ]
  },
  {
   "cell_type": "code",
   "execution_count": null,
   "metadata": {},
   "outputs": [],
   "source": []
  },
  {
   "cell_type": "code",
   "execution_count": null,
   "metadata": {},
   "outputs": [],
   "source": []
  },
  {
   "cell_type": "markdown",
   "metadata": {},
   "source": [
    "#### Chains"
   ]
  },
  {
   "cell_type": "code",
   "execution_count": 96,
   "metadata": {},
   "outputs": [],
   "source": [
    "#imports\n",
    "from datetime import datetime\n",
    "from dotenv import load_dotenv\n",
    "from langchain_groq import ChatGroq\n",
    "from langchain.prompts import ChatPromptTemplate, MessagesPlaceholder\n",
    "from langchain_core.output_parsers import JsonOutputToolsParser, PydanticToolsParser\n",
    "from langchain_core.messages import HumanMessage\n"
   ]
  },
  {
   "cell_type": "code",
   "execution_count": 127,
   "metadata": {},
   "outputs": [],
   "source": [
    "load_dotenv()\n",
    "llm = ChatGroq(model=\"llama-3.3-70b-versatile\")\n",
    "llm=llm.bind_tools(tools=[AnswerQuestion],tool_choice=\"AnswerQuestion\")"
   ]
  },
  {
   "cell_type": "code",
   "execution_count": 128,
   "metadata": {},
   "outputs": [],
   "source": [
    "json_parser = JsonOutputToolsParser(return_id=True)\n",
    "pydantic_parser = PydanticToolsParser(tools=[AnswerQuestion])"
   ]
  },
  {
   "cell_type": "code",
   "execution_count": null,
   "metadata": {},
   "outputs": [],
   "source": []
  },
  {
   "cell_type": "code",
   "execution_count": 129,
   "metadata": {},
   "outputs": [],
   "source": [
    "actor_prompt_template = ChatPromptTemplate.from_messages(\n",
    "    [\n",
    "        (\"system\",\"\"\" \n",
    "                    You are expert researcher.\n",
    "                    Current time: {time}\n",
    "\n",
    "                    1. {first_instruction}\n",
    "                    2. Reflect and critique your answer. Be severe to maximize improvement.\n",
    "                    3. Recommend search queries to research information and improve your answer.\n",
    "                 \"\"\"),\n",
    "        MessagesPlaceholder(variable_name=\"messages\"),\n",
    "        (\"system\",\"Answer the user's question above using the required format.\")\n",
    "    ]\n",
    ").partial(time=lambda: datetime.now().isoformat())"
   ]
  },
  {
   "cell_type": "code",
   "execution_count": 130,
   "metadata": {},
   "outputs": [],
   "source": [
    "first_responder_prompt_template = actor_prompt_template.partial(first_instruction=\"Provide a detailed 200 word answer.\")"
   ]
  },
  {
   "cell_type": "code",
   "execution_count": 131,
   "metadata": {},
   "outputs": [],
   "source": [
    "human_message = HumanMessage(\n",
    "    content=\"Write about AI-Powered SOC / autonomous soc  problem domain, \" \\\n",
    "    \"list startups that do that and raised capital.\")"
   ]
  },
  {
   "cell_type": "code",
   "execution_count": 132,
   "metadata": {},
   "outputs": [],
   "source": [
    "chain = (first_responder_prompt_template|llm|pydantic_parser)"
   ]
  },
  {
   "cell_type": "code",
   "execution_count": 133,
   "metadata": {},
   "outputs": [],
   "source": [
    "response = chain.invoke(input={\"messages\":[human_message]})"
   ]
  },
  {
   "cell_type": "code",
   "execution_count": 134,
   "metadata": {},
   "outputs": [
    {
     "name": "stdout",
     "output_type": "stream",
     "text": [
      "('The AI-Powered Security Operations Center (SOC) or autonomous SOC is a '\n",
      " 'problem domain that involves the use of artificial intelligence and machine '\n",
      " 'learning to automate and enhance the capabilities of traditional security '\n",
      " 'operations centers. The goal of an AI-Powered SOC is to improve the '\n",
      " 'efficiency and effectiveness of security operations by leveraging AI and ML '\n",
      " 'to detect, respond, and prevent cyber threats in real-time. This is achieved '\n",
      " 'through the use of advanced analytics, automation, and orchestration of '\n",
      " 'security incident response processes. Startups such as Deep Instinct, '\n",
      " 'Cybereason, and SentinelOne are working in this space and have raised '\n",
      " 'significant capital to develop and deploy their solutions. For example, Deep '\n",
      " 'Instinct has raised over $100 million in funding to develop its AI-powered '\n",
      " 'cybersecurity platform, while Cybereason has raised over $300 million to '\n",
      " 'develop its AI-powered SOC platform. Other startups such as Automate '\n",
      " 'Security, Securiti, and Cloudframe are also working in this space and have '\n",
      " 'raised significant capital to develop and deploy their solutions. These '\n",
      " 'startups are using AI and ML to automate and enhance security operations, '\n",
      " 'including threat detection, incident response, and security analytics.')\n",
      "Reflection(missing='A more detailed analysis of the market size and growth potential of the AI-Powered SOC market is missing from the answer.', superfluous='The answer could be more concise and focused on the key points, with less repetition of the concept of AI-Powered SOC.')\n",
      "['AI-Powered SOC startups',\n",
      " 'autonomous SOC companies',\n",
      " 'cybersecurity startups']\n"
     ]
    }
   ],
   "source": [
    "from pprint import pprint\n",
    "pprint(response[0].answer)\n",
    "pprint(response[0].reflection)\n",
    "pprint(response[0].queries)"
   ]
  },
  {
   "cell_type": "code",
   "execution_count": null,
   "metadata": {},
   "outputs": [],
   "source": []
  },
  {
   "cell_type": "code",
   "execution_count": null,
   "metadata": {},
   "outputs": [],
   "source": []
  },
  {
   "cell_type": "code",
   "execution_count": null,
   "metadata": {},
   "outputs": [],
   "source": []
  },
  {
   "cell_type": "code",
   "execution_count": null,
   "metadata": {},
   "outputs": [],
   "source": []
  }
 ],
 "metadata": {
  "kernelspec": {
   "display_name": "langraph-kxc4EU_1-py3.12",
   "language": "python",
   "name": "python3"
  },
  "language_info": {
   "codemirror_mode": {
    "name": "ipython",
    "version": 3
   },
   "file_extension": ".py",
   "mimetype": "text/x-python",
   "name": "python",
   "nbconvert_exporter": "python",
   "pygments_lexer": "ipython3",
   "version": "3.12.3"
  }
 },
 "nbformat": 4,
 "nbformat_minor": 2
}
